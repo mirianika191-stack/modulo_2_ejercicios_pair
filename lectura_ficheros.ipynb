{
 "cells": [
  {
   "cell_type": "markdown",
   "id": "a24c230c",
   "metadata": {},
   "source": [
    "\n",
    "Hacer las importaciones necesarias para abrir un archivo de tipo csv en Pandas.\n",
    "\n",
    "Abrir el archivo, creando un dataframe. Aseguraros de que no incluye la columna \"Unnamed: 0\".\n",
    "\n",
    "Guardar el dataframe en formato Excel y después crear un dataframe con el Excel. ¿El dataframe es similar al que teníais antes?\n",
    "\n",
    "Crear una carpeta llamada Files y guardar el mismo archivo en esa carpeta en formato csv .\n",
    "\n",
    "Copia el archivo personal.json en la carpeta Files.\n",
    "\n",
    "Abre el fichero json (con el json.load(f)) y haz las modificaciones necesarias para que tenga formato de tabla (Para esto necesitas normalizar los datos con el pd.json_normalize).\n",
    "\n",
    "Guardar el json modificado y abrirlo en Pandas.¿Cómo queda ahora?"
   ]
  },
  {
   "cell_type": "code",
   "execution_count": 1,
   "id": "776a2786",
   "metadata": {},
   "outputs": [],
   "source": [
    "import json\n",
    "import pandas as pd"
   ]
  },
  {
   "cell_type": "code",
   "execution_count": null,
   "id": "d03e4dfc",
   "metadata": {},
   "outputs": [],
   "source": []
  }
 ],
 "metadata": {
  "kernelspec": {
   "display_name": "Python 3",
   "language": "python",
   "name": "python3"
  },
  "language_info": {
   "codemirror_mode": {
    "name": "ipython",
    "version": 3
   },
   "file_extension": ".py",
   "mimetype": "text/x-python",
   "name": "python",
   "nbconvert_exporter": "python",
   "pygments_lexer": "ipython3",
   "version": "3.13.7"
  }
 },
 "nbformat": 4,
 "nbformat_minor": 5
}
