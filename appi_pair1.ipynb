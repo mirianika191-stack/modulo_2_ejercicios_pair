{
 "cells": [
  {
   "cell_type": "markdown",
   "id": "c1811784",
   "metadata": {},
   "source": [
    "# Ejercicio APIs\n",
    "\n",
    "## 1. Extraer información de las alumnas:\n",
    "\n",
    "- Usa este endpoint: \"https://beta.adalab.es/curso-intensivo-fullstack-recursos/apis/alumnos-v1/alumnos.json\" para hacer la llamada a la API.\n",
    "\n",
    "**Nota:** no requiere api_key ni registro, se puede llamar directamente.\n",
    "\n",
    "- Extrae de los resultados:\n",
    "    - Número de expediente\n",
    "    - Nombre\n",
    "    - Apellido\n",
    "\n",
    "- Convierte los datos extraidos en un Dataframe de pandas\n",
    "\n",
    "## 2. Objetos cercanos a la tierra:\n",
    "\n",
    "- Usa esta API: https://api.nasa.gov/\n",
    "    - Requiere api_key\n",
    "\n",
    "- Utiliza este endpoint: Asteroids - NeoWs -> mira bien la documentación!!\n",
    "\n",
    "- Extrae los ids de los objetos cercanos a la Tierra de uno de los días (el que tú quieras) y crea una lista con ellos.\n",
    "\n",
    "- BUsca si en ese mismo endpoint hay alguna manera de obtener la información de cada objeto por su id. Haz la llamada para cada id de la lista y almacena en un diccionario el id, nombre y si es peligroso de cada objeto."
   ]
  },
  {
   "cell_type": "code",
   "execution_count": 2,
   "id": "d0a6c693",
   "metadata": {},
   "outputs": [],
   "source": [
    "import requests"
   ]
  },
  {
   "cell_type": "code",
   "execution_count": 3,
   "id": "122b8c5b",
   "metadata": {},
   "outputs": [
    {
     "name": "stdout",
     "output_type": "stream",
     "text": [
      "Requirement already satisfied: requests in c:\\users\\gisel\\appdata\\local\\programs\\python\\python313\\lib\\site-packages (2.32.5)\n",
      "Requirement already satisfied: charset_normalizer<4,>=2 in c:\\users\\gisel\\appdata\\local\\programs\\python\\python313\\lib\\site-packages (from requests) (3.4.3)\n",
      "Requirement already satisfied: idna<4,>=2.5 in c:\\users\\gisel\\appdata\\local\\programs\\python\\python313\\lib\\site-packages (from requests) (3.10)\n",
      "Requirement already satisfied: urllib3<3,>=1.21.1 in c:\\users\\gisel\\appdata\\local\\programs\\python\\python313\\lib\\site-packages (from requests) (2.5.0)\n",
      "Requirement already satisfied: certifi>=2017.4.17 in c:\\users\\gisel\\appdata\\local\\programs\\python\\python313\\lib\\site-packages (from requests) (2025.8.3)\n",
      "Note: you may need to restart the kernel to use updated packages.\n"
     ]
    }
   ],
   "source": [
    "pip install requests"
   ]
  },
  {
   "cell_type": "code",
   "execution_count": 4,
   "id": "742582b6",
   "metadata": {},
   "outputs": [
    {
     "name": "stdout",
     "output_type": "stream",
     "text": [
      "Requirement already satisfied: pandas in c:\\users\\gisel\\appdata\\local\\programs\\python\\python313\\lib\\site-packages (2.3.3)\n",
      "Requirement already satisfied: numpy>=1.26.0 in c:\\users\\gisel\\appdata\\local\\programs\\python\\python313\\lib\\site-packages (from pandas) (2.3.4)\n",
      "Requirement already satisfied: python-dateutil>=2.8.2 in c:\\users\\gisel\\appdata\\local\\programs\\python\\python313\\lib\\site-packages (from pandas) (2.9.0.post0)\n",
      "Requirement already satisfied: pytz>=2020.1 in c:\\users\\gisel\\appdata\\local\\programs\\python\\python313\\lib\\site-packages (from pandas) (2025.2)\n",
      "Requirement already satisfied: tzdata>=2022.7 in c:\\users\\gisel\\appdata\\local\\programs\\python\\python313\\lib\\site-packages (from pandas) (2025.2)\n",
      "Requirement already satisfied: six>=1.5 in c:\\users\\gisel\\appdata\\local\\programs\\python\\python313\\lib\\site-packages (from python-dateutil>=2.8.2->pandas) (1.17.0)\n",
      "Note: you may need to restart the kernel to use updated packages.\n"
     ]
    }
   ],
   "source": [
    "pip install pandas"
   ]
  },
  {
   "cell_type": "code",
   "execution_count": 5,
   "id": "57ab691f",
   "metadata": {},
   "outputs": [],
   "source": [
    "import pandas as pd"
   ]
  },
  {
   "cell_type": "code",
   "execution_count": 6,
   "id": "0eb37e28",
   "metadata": {},
   "outputs": [],
   "source": [
    "url_alumnas_2 = \"https://beta.adalab.es/curso-intensivo-fullstack-recursos/apis/alumnos-v1/alumnos.json\""
   ]
  },
  {
   "cell_type": "code",
   "execution_count": 7,
   "id": "f51930ea",
   "metadata": {},
   "outputs": [],
   "source": [
    "res = requests.get(url_alumnas_2)"
   ]
  },
  {
   "cell_type": "code",
   "execution_count": 8,
   "id": "d6f4fe0e",
   "metadata": {},
   "outputs": [
    {
     "data": {
      "text/plain": [
       "200"
      ]
     },
     "execution_count": 8,
     "metadata": {},
     "output_type": "execute_result"
    }
   ],
   "source": [
    "res.status_code"
   ]
  },
  {
   "cell_type": "code",
   "execution_count": 9,
   "id": "0b1dfade",
   "metadata": {},
   "outputs": [
    {
     "name": "stdout",
     "output_type": "stream",
     "text": [
      "<Response [200]>\n"
     ]
    }
   ],
   "source": [
    "print(res)"
   ]
  },
  {
   "cell_type": "code",
   "execution_count": 10,
   "id": "8fac0d6b",
   "metadata": {},
   "outputs": [
    {
     "data": {
      "text/plain": [
       "{'info': {'count': 20,\n",
       "  'pages': 1,\n",
       "  'currentPage': 1,\n",
       "  'next': None,\n",
       "  'prev': None},\n",
       " 'results': [{'num_expediente': 1001,\n",
       "   'nombre': 'Ana',\n",
       "   'apellidos': 'Martínez',\n",
       "   'fecha_nacimiento': '2005-03-15'},\n",
       "  {'num_expediente': 1002,\n",
       "   'nombre': 'Luis',\n",
       "   'apellidos': 'Fernández',\n",
       "   'fecha_nacimiento': '2004-11-22'},\n",
       "  {'num_expediente': 1003,\n",
       "   'nombre': 'Clara',\n",
       "   'apellidos': 'Ruiz',\n",
       "   'fecha_nacimiento': '2006-01-10'},\n",
       "  {'num_expediente': 1004,\n",
       "   'nombre': 'Pedro',\n",
       "   'apellidos': 'Sánchez',\n",
       "   'fecha_nacimiento': '2005-07-08'},\n",
       "  {'num_expediente': 1005,\n",
       "   'nombre': 'Lucía',\n",
       "   'apellidos': 'Torres',\n",
       "   'fecha_nacimiento': '2004-09-18'},\n",
       "  {'num_expediente': 1006,\n",
       "   'nombre': 'Javier',\n",
       "   'apellidos': 'González',\n",
       "   'fecha_nacimiento': '2006-06-24'},\n",
       "  {'num_expediente': 1007,\n",
       "   'nombre': 'María',\n",
       "   'apellidos': 'López',\n",
       "   'fecha_nacimiento': '2005-04-10'},\n",
       "  {'num_expediente': 1008,\n",
       "   'nombre': 'David',\n",
       "   'apellidos': 'Pérez',\n",
       "   'fecha_nacimiento': '2004-12-12'},\n",
       "  {'num_expediente': 1009,\n",
       "   'nombre': 'Sara',\n",
       "   'apellidos': 'García',\n",
       "   'fecha_nacimiento': '2005-08-15'},\n",
       "  {'num_expediente': 1010,\n",
       "   'nombre': 'Ricardo',\n",
       "   'apellidos': 'Martín',\n",
       "   'fecha_nacimiento': '2006-03-22'},\n",
       "  {'num_expediente': 1011,\n",
       "   'nombre': 'Alba',\n",
       "   'apellidos': 'Vázquez',\n",
       "   'fecha_nacimiento': '2004-05-05'},\n",
       "  {'num_expediente': 1012,\n",
       "   'nombre': 'Carlos',\n",
       "   'apellidos': 'Serrano',\n",
       "   'fecha_nacimiento': '2005-02-28'},\n",
       "  {'num_expediente': 1013,\n",
       "   'nombre': 'Elena',\n",
       "   'apellidos': 'Ramírez',\n",
       "   'fecha_nacimiento': '2006-08-01'},\n",
       "  {'num_expediente': 1014,\n",
       "   'nombre': 'Iván',\n",
       "   'apellidos': 'Hernández',\n",
       "   'fecha_nacimiento': '2005-10-30'},\n",
       "  {'num_expediente': 1015,\n",
       "   'nombre': 'Laura',\n",
       "   'apellidos': 'Jiménez',\n",
       "   'fecha_nacimiento': '2004-07-14'},\n",
       "  {'num_expediente': 1016,\n",
       "   'nombre': 'Tomás',\n",
       "   'apellidos': 'López',\n",
       "   'fecha_nacimiento': '2005-12-18'},\n",
       "  {'num_expediente': 1017,\n",
       "   'nombre': 'Paula',\n",
       "   'apellidos': 'Fernández',\n",
       "   'fecha_nacimiento': '2006-02-06'},\n",
       "  {'num_expediente': 1018,\n",
       "   'nombre': 'Mario',\n",
       "   'apellidos': 'Díaz',\n",
       "   'fecha_nacimiento': '2004-11-30'},\n",
       "  {'num_expediente': 1019,\n",
       "   'nombre': 'Raquel',\n",
       "   'apellidos': 'González',\n",
       "   'fecha_nacimiento': '2005-09-23'},\n",
       "  {'num_expediente': 1020,\n",
       "   'nombre': 'Jorge',\n",
       "   'apellidos': 'Álvarez',\n",
       "   'fecha_nacimiento': '2006-05-17'}]}"
      ]
     },
     "execution_count": 10,
     "metadata": {},
     "output_type": "execute_result"
    }
   ],
   "source": [
    "res.json()"
   ]
  },
  {
   "cell_type": "code",
   "execution_count": 16,
   "id": "75416bf2",
   "metadata": {},
   "outputs": [],
   "source": [
    "diccionario_alumnado = {\"nu_exp\": [], \"nombre\": [], \"apellido\": []}"
   ]
  },
  {
   "cell_type": "code",
   "execution_count": 12,
   "id": "1f44c321",
   "metadata": {},
   "outputs": [],
   "source": [
    "datos = res.json()"
   ]
  },
  {
   "cell_type": "code",
   "execution_count": null,
   "id": "a7d5d8c9",
   "metadata": {},
   "outputs": [],
   "source": [
    "for alumno in datos[\"results\"]:\n",
    "    diccionario_alumnado[\"nu_exp\"].append(alumno[\"num_expediente\"])\n",
    "    diccionario_alumnado[\"nombre\"].append(alumno[\"nombre\"])\n",
    "    diccionario_alumnado[\"apellido\"].append(alumno[\"apellidos\"])\n",
    "    \n",
    "                                       "
   ]
  },
  {
   "cell_type": "code",
   "execution_count": 19,
   "id": "b2814e1f",
   "metadata": {},
   "outputs": [
    {
     "name": "stdout",
     "output_type": "stream",
     "text": [
      "{'nu_exp': [1001, 1002, 1003, 1004, 1005, 1006, 1007, 1008, 1009, 1010, 1011, 1012, 1013, 1014, 1015, 1016, 1017, 1018, 1019, 1020], 'nombre': ['Ana', 'Luis', 'Clara', 'Pedro', 'Lucía', 'Javier', 'María', 'David', 'Sara', 'Ricardo', 'Alba', 'Carlos', 'Elena', 'Iván', 'Laura', 'Tomás', 'Paula', 'Mario', 'Raquel', 'Jorge'], 'apellido': ['Martínez', 'Fernández', 'Ruiz', 'Sánchez', 'Torres', 'González', 'López', 'Pérez', 'García', 'Martín', 'Vázquez', 'Serrano', 'Ramírez', 'Hernández', 'Jiménez', 'López', 'Fernández', 'Díaz', 'González', 'Álvarez']}\n"
     ]
    }
   ],
   "source": [
    "print(diccionario_alumnado)"
   ]
  },
  {
   "cell_type": "code",
   "execution_count": 21,
   "id": "bb09bba8",
   "metadata": {},
   "outputs": [
    {
     "data": {
      "text/html": [
       "<div>\n",
       "<style scoped>\n",
       "    .dataframe tbody tr th:only-of-type {\n",
       "        vertical-align: middle;\n",
       "    }\n",
       "\n",
       "    .dataframe tbody tr th {\n",
       "        vertical-align: top;\n",
       "    }\n",
       "\n",
       "    .dataframe thead th {\n",
       "        text-align: right;\n",
       "    }\n",
       "</style>\n",
       "<table border=\"1\" class=\"dataframe\">\n",
       "  <thead>\n",
       "    <tr style=\"text-align: right;\">\n",
       "      <th></th>\n",
       "      <th>nu_exp</th>\n",
       "      <th>nombre</th>\n",
       "      <th>apellido</th>\n",
       "    </tr>\n",
       "  </thead>\n",
       "  <tbody>\n",
       "    <tr>\n",
       "      <th>0</th>\n",
       "      <td>1001</td>\n",
       "      <td>Ana</td>\n",
       "      <td>Martínez</td>\n",
       "    </tr>\n",
       "    <tr>\n",
       "      <th>1</th>\n",
       "      <td>1002</td>\n",
       "      <td>Luis</td>\n",
       "      <td>Fernández</td>\n",
       "    </tr>\n",
       "    <tr>\n",
       "      <th>2</th>\n",
       "      <td>1003</td>\n",
       "      <td>Clara</td>\n",
       "      <td>Ruiz</td>\n",
       "    </tr>\n",
       "    <tr>\n",
       "      <th>3</th>\n",
       "      <td>1004</td>\n",
       "      <td>Pedro</td>\n",
       "      <td>Sánchez</td>\n",
       "    </tr>\n",
       "    <tr>\n",
       "      <th>4</th>\n",
       "      <td>1005</td>\n",
       "      <td>Lucía</td>\n",
       "      <td>Torres</td>\n",
       "    </tr>\n",
       "  </tbody>\n",
       "</table>\n",
       "</div>"
      ],
      "text/plain": [
       "   nu_exp nombre   apellido\n",
       "0    1001    Ana   Martínez\n",
       "1    1002   Luis  Fernández\n",
       "2    1003  Clara       Ruiz\n",
       "3    1004  Pedro    Sánchez\n",
       "4    1005  Lucía     Torres"
      ]
     },
     "execution_count": 21,
     "metadata": {},
     "output_type": "execute_result"
    }
   ],
   "source": [
    "df = pd.DataFrame(diccionario_alumnado)\n",
    "df.head()"
   ]
  }
 ],
 "metadata": {
  "kernelspec": {
   "display_name": "Python 3",
   "language": "python",
   "name": "python3"
  },
  "language_info": {
   "codemirror_mode": {
    "name": "ipython",
    "version": 3
   },
   "file_extension": ".py",
   "mimetype": "text/x-python",
   "name": "python",
   "nbconvert_exporter": "python",
   "pygments_lexer": "ipython3",
   "version": "3.13.7"
  }
 },
 "nbformat": 4,
 "nbformat_minor": 5
}
