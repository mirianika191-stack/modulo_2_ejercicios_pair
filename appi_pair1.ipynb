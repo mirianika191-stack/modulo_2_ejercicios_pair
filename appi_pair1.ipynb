{
 "cells": [
  {
   "cell_type": "markdown",
   "id": "64f7b584",
   "metadata": {},
   "source": [
    "## 1. Extraer información de las alumnas:\n",
    "- Usa este endpoint: \"https://beta.adalab.es/curso-intensivo-fullstack-recursos/apis/alumnos-v1/alumnos.json\" para hacer la llamada a la API.\n",
    "**Nota:** no requiere api_key ni registro, se puede llamar directamente.\n",
    "- Extrae de los resultados:\n",
    "    - Número de expediente\n",
    "    - Nombre\n",
    "    - Apellido\n",
    "- Convierte los datos extraidos en un Dataframe de pandas"
   ]
  },
  {
   "cell_type": "markdown",
   "id": "c1811784",
   "metadata": {},
   "source": [
    "# Ejercicio APIs\n",
    "\n",
    "## 1. Extraer información de las alumnas:\n",
    "\n",
    "- Usa este endpoint: \"https://beta.adalab.es/curso-intensivo-fullstack-recursos/apis/alumnos-v1/alumnos.json\" para hacer la llamada a la API.\n",
    "\n",
    "**Nota:** no requiere api_key ni registro, se puede llamar directamente.\n",
    "\n",
    "- Extrae de los resultados:\n",
    "    - Número de expediente\n",
    "    - Nombre\n",
    "    - Apellido\n",
    "\n",
    "- Convierte los datos extraidos en un Dataframe de pandas\n",
    "\n",
    "## 2. Objetos cercanos a la tierra:\n",
    "\n",
    "- Usa esta API: https://api.nasa.gov/\n",
    "    - Requiere api_key\n",
    "\n",
    "- Utiliza este endpoint: Asteroids - NeoWs -> mira bien la documentación!!\n",
    "\n",
    "- Extrae los ids de los objetos cercanos a la Tierra de uno de los días (el que tú quieras) y crea una lista con ellos.\n",
    "\n",
    "- BUsca si en ese mismo endpoint hay alguna manera de obtener la información de cada objeto por su id. Haz la llamada para cada id de la lista y almacena en un diccionario el id, nombre y si es peligroso de cada objeto."
   ]
  },
  {
   "cell_type": "code",
   "execution_count": 20,
   "id": "d0a6c693",
   "metadata": {},
   "outputs": [],
   "source": [
    "import requests"
   ]
  },
  {
   "cell_type": "code",
   "execution_count": 21,
   "id": "122b8c5b",
   "metadata": {},
   "outputs": [
    {
     "name": "stdout",
     "output_type": "stream",
     "text": [
      "Requirement already satisfied: requests in c:\\users\\miguel\\appdata\\local\\programs\\python\\python313\\lib\\site-packages (2.32.5)\n",
      "Requirement already satisfied: charset_normalizer<4,>=2 in c:\\users\\miguel\\appdata\\local\\programs\\python\\python313\\lib\\site-packages (from requests) (3.4.4)\n",
      "Requirement already satisfied: idna<4,>=2.5 in c:\\users\\miguel\\appdata\\local\\programs\\python\\python313\\lib\\site-packages (from requests) (3.11)\n",
      "Requirement already satisfied: urllib3<3,>=1.21.1 in c:\\users\\miguel\\appdata\\local\\programs\\python\\python313\\lib\\site-packages (from requests) (2.5.0)\n",
      "Requirement already satisfied: certifi>=2017.4.17 in c:\\users\\miguel\\appdata\\local\\programs\\python\\python313\\lib\\site-packages (from requests) (2025.10.5)\n",
      "Note: you may need to restart the kernel to use updated packages.\n"
     ]
    }
   ],
   "source": [
    "pip install requests"
   ]
  },
  {
   "cell_type": "code",
   "execution_count": 22,
   "id": "742582b6",
   "metadata": {},
   "outputs": [
    {
     "name": "stdout",
     "output_type": "stream",
     "text": [
      "Requirement already satisfied: pandas in c:\\users\\miguel\\appdata\\local\\programs\\python\\python313\\lib\\site-packages (2.3.3)\n",
      "Requirement already satisfied: numpy>=1.26.0 in c:\\users\\miguel\\appdata\\local\\programs\\python\\python313\\lib\\site-packages (from pandas) (2.3.4)\n",
      "Requirement already satisfied: python-dateutil>=2.8.2 in c:\\users\\miguel\\appdata\\roaming\\python\\python313\\site-packages (from pandas) (2.9.0.post0)\n",
      "Requirement already satisfied: pytz>=2020.1 in c:\\users\\miguel\\appdata\\local\\programs\\python\\python313\\lib\\site-packages (from pandas) (2025.2)\n",
      "Requirement already satisfied: tzdata>=2022.7 in c:\\users\\miguel\\appdata\\local\\programs\\python\\python313\\lib\\site-packages (from pandas) (2025.2)\n",
      "Requirement already satisfied: six>=1.5 in c:\\users\\miguel\\appdata\\roaming\\python\\python313\\site-packages (from python-dateutil>=2.8.2->pandas) (1.17.0)\n",
      "Note: you may need to restart the kernel to use updated packages.\n"
     ]
    }
   ],
   "source": [
    "pip install pandas"
   ]
  },
  {
   "cell_type": "code",
   "execution_count": 23,
   "id": "57ab691f",
   "metadata": {},
   "outputs": [],
   "source": [
    "import pandas as pd"
   ]
  },
  {
   "cell_type": "code",
   "execution_count": 24,
   "id": "0eb37e28",
   "metadata": {},
   "outputs": [],
   "source": [
    "url_alumnas_2 = \"https://beta.adalab.es/curso-intensivo-fullstack-recursos/apis/alumnos-v1/alumnos.json\""
   ]
  },
  {
   "cell_type": "code",
   "execution_count": 25,
   "id": "f51930ea",
   "metadata": {},
   "outputs": [],
   "source": [
    "res = requests.get(url_alumnas_2)"
   ]
  },
  {
   "cell_type": "code",
   "execution_count": 26,
   "id": "d6f4fe0e",
   "metadata": {},
   "outputs": [
    {
     "data": {
      "text/plain": [
       "200"
      ]
     },
     "execution_count": 26,
     "metadata": {},
     "output_type": "execute_result"
    }
   ],
   "source": [
    "res.status_code"
   ]
  },
  {
   "cell_type": "code",
   "execution_count": 27,
   "id": "0b1dfade",
   "metadata": {},
   "outputs": [
    {
     "name": "stdout",
     "output_type": "stream",
     "text": [
      "<Response [200]>\n"
     ]
    }
   ],
   "source": [
    "print(res)"
   ]
  },
  {
   "cell_type": "code",
   "execution_count": 28,
   "id": "8fac0d6b",
   "metadata": {},
   "outputs": [
    {
     "data": {
      "text/plain": [
       "{'info': {'count': 20,\n",
       "  'pages': 1,\n",
       "  'currentPage': 1,\n",
       "  'next': None,\n",
       "  'prev': None},\n",
       " 'results': [{'num_expediente': 1001,\n",
       "   'nombre': 'Ana',\n",
       "   'apellidos': 'Martínez',\n",
       "   'fecha_nacimiento': '2005-03-15'},\n",
       "  {'num_expediente': 1002,\n",
       "   'nombre': 'Luis',\n",
       "   'apellidos': 'Fernández',\n",
       "   'fecha_nacimiento': '2004-11-22'},\n",
       "  {'num_expediente': 1003,\n",
       "   'nombre': 'Clara',\n",
       "   'apellidos': 'Ruiz',\n",
       "   'fecha_nacimiento': '2006-01-10'},\n",
       "  {'num_expediente': 1004,\n",
       "   'nombre': 'Pedro',\n",
       "   'apellidos': 'Sánchez',\n",
       "   'fecha_nacimiento': '2005-07-08'},\n",
       "  {'num_expediente': 1005,\n",
       "   'nombre': 'Lucía',\n",
       "   'apellidos': 'Torres',\n",
       "   'fecha_nacimiento': '2004-09-18'},\n",
       "  {'num_expediente': 1006,\n",
       "   'nombre': 'Javier',\n",
       "   'apellidos': 'González',\n",
       "   'fecha_nacimiento': '2006-06-24'},\n",
       "  {'num_expediente': 1007,\n",
       "   'nombre': 'María',\n",
       "   'apellidos': 'López',\n",
       "   'fecha_nacimiento': '2005-04-10'},\n",
       "  {'num_expediente': 1008,\n",
       "   'nombre': 'David',\n",
       "   'apellidos': 'Pérez',\n",
       "   'fecha_nacimiento': '2004-12-12'},\n",
       "  {'num_expediente': 1009,\n",
       "   'nombre': 'Sara',\n",
       "   'apellidos': 'García',\n",
       "   'fecha_nacimiento': '2005-08-15'},\n",
       "  {'num_expediente': 1010,\n",
       "   'nombre': 'Ricardo',\n",
       "   'apellidos': 'Martín',\n",
       "   'fecha_nacimiento': '2006-03-22'},\n",
       "  {'num_expediente': 1011,\n",
       "   'nombre': 'Alba',\n",
       "   'apellidos': 'Vázquez',\n",
       "   'fecha_nacimiento': '2004-05-05'},\n",
       "  {'num_expediente': 1012,\n",
       "   'nombre': 'Carlos',\n",
       "   'apellidos': 'Serrano',\n",
       "   'fecha_nacimiento': '2005-02-28'},\n",
       "  {'num_expediente': 1013,\n",
       "   'nombre': 'Elena',\n",
       "   'apellidos': 'Ramírez',\n",
       "   'fecha_nacimiento': '2006-08-01'},\n",
       "  {'num_expediente': 1014,\n",
       "   'nombre': 'Iván',\n",
       "   'apellidos': 'Hernández',\n",
       "   'fecha_nacimiento': '2005-10-30'},\n",
       "  {'num_expediente': 1015,\n",
       "   'nombre': 'Laura',\n",
       "   'apellidos': 'Jiménez',\n",
       "   'fecha_nacimiento': '2004-07-14'},\n",
       "  {'num_expediente': 1016,\n",
       "   'nombre': 'Tomás',\n",
       "   'apellidos': 'López',\n",
       "   'fecha_nacimiento': '2005-12-18'},\n",
       "  {'num_expediente': 1017,\n",
       "   'nombre': 'Paula',\n",
       "   'apellidos': 'Fernández',\n",
       "   'fecha_nacimiento': '2006-02-06'},\n",
       "  {'num_expediente': 1018,\n",
       "   'nombre': 'Mario',\n",
       "   'apellidos': 'Díaz',\n",
       "   'fecha_nacimiento': '2004-11-30'},\n",
       "  {'num_expediente': 1019,\n",
       "   'nombre': 'Raquel',\n",
       "   'apellidos': 'González',\n",
       "   'fecha_nacimiento': '2005-09-23'},\n",
       "  {'num_expediente': 1020,\n",
       "   'nombre': 'Jorge',\n",
       "   'apellidos': 'Álvarez',\n",
       "   'fecha_nacimiento': '2006-05-17'}]}"
      ]
     },
     "execution_count": 28,
     "metadata": {},
     "output_type": "execute_result"
    }
   ],
   "source": [
    "res.json()"
   ]
  },
  {
   "cell_type": "code",
   "execution_count": 29,
   "id": "75416bf2",
   "metadata": {},
   "outputs": [],
   "source": [
    "diccionario_alumnado = {\"nu_exp\": [], \"nombre\": [], \"apellido\": []}\n",
    "\n"
   ]
  },
  {
   "cell_type": "code",
   "execution_count": 30,
   "id": "1f44c321",
   "metadata": {},
   "outputs": [],
   "source": [
    "datos = res.json()"
   ]
  },
  {
   "cell_type": "code",
   "execution_count": 31,
   "id": "a7d5d8c9",
   "metadata": {},
   "outputs": [],
   "source": [
    "for almumno in datos[\"results\"]:\n",
    "    diccionario_alumnado[\"nu_exp\"].append(almumno[\"num_expediente\"])\n",
    "    diccionario_alumnado[\"nombre\"].append(almumno[\"nombre\"])\n",
    "    diccionario_alumnado[\"apellido\"].append(almumno[\"apellidos\"])\n",
    "    \n",
    "                                       "
   ]
  },
  {
   "cell_type": "code",
   "execution_count": 32,
   "id": "b2814e1f",
   "metadata": {},
   "outputs": [
    {
     "name": "stdout",
     "output_type": "stream",
     "text": [
      "{'nu_exp': [1001, 1002, 1003, 1004, 1005, 1006, 1007, 1008, 1009, 1010, 1011, 1012, 1013, 1014, 1015, 1016, 1017, 1018, 1019, 1020], 'nombre': ['Ana', 'Luis', 'Clara', 'Pedro', 'Lucía', 'Javier', 'María', 'David', 'Sara', 'Ricardo', 'Alba', 'Carlos', 'Elena', 'Iván', 'Laura', 'Tomás', 'Paula', 'Mario', 'Raquel', 'Jorge'], 'apellido': ['Martínez', 'Fernández', 'Ruiz', 'Sánchez', 'Torres', 'González', 'López', 'Pérez', 'García', 'Martín', 'Vázquez', 'Serrano', 'Ramírez', 'Hernández', 'Jiménez', 'López', 'Fernández', 'Díaz', 'González', 'Álvarez']}\n"
     ]
    }
   ],
   "source": [
    "print(diccionario_alumnado)"
   ]
  },
  {
   "cell_type": "code",
   "execution_count": 34,
   "id": "bb09bba8",
   "metadata": {},
   "outputs": [
    {
     "ename": "ValueError",
     "evalue": "Mixing dicts with non-Series may lead to ambiguous ordering.",
     "output_type": "error",
     "traceback": [
      "\u001b[31m---------------------------------------------------------------------------\u001b[39m",
      "\u001b[31mValueError\u001b[39m                                Traceback (most recent call last)",
      "\u001b[36mCell\u001b[39m\u001b[36m \u001b[39m\u001b[32mIn[34]\u001b[39m\u001b[32m, line 1\u001b[39m\n\u001b[32m----> \u001b[39m\u001b[32m1\u001b[39m df = \u001b[43mpd\u001b[49m\u001b[43m.\u001b[49m\u001b[43mDataFrame\u001b[49m\u001b[43m(\u001b[49m\u001b[43mdatos\u001b[49m\u001b[43m)\u001b[49m\n\u001b[32m      2\u001b[39m df.head()\n",
      "\u001b[36mFile \u001b[39m\u001b[32mc:\\Users\\miguel\\AppData\\Local\\Programs\\Python\\Python313\\Lib\\site-packages\\pandas\\core\\frame.py:782\u001b[39m, in \u001b[36mDataFrame.__init__\u001b[39m\u001b[34m(self, data, index, columns, dtype, copy)\u001b[39m\n\u001b[32m    776\u001b[39m     mgr = \u001b[38;5;28mself\u001b[39m._init_mgr(\n\u001b[32m    777\u001b[39m         data, axes={\u001b[33m\"\u001b[39m\u001b[33mindex\u001b[39m\u001b[33m\"\u001b[39m: index, \u001b[33m\"\u001b[39m\u001b[33mcolumns\u001b[39m\u001b[33m\"\u001b[39m: columns}, dtype=dtype, copy=copy\n\u001b[32m    778\u001b[39m     )\n\u001b[32m    780\u001b[39m \u001b[38;5;28;01melif\u001b[39;00m \u001b[38;5;28misinstance\u001b[39m(data, \u001b[38;5;28mdict\u001b[39m):\n\u001b[32m    781\u001b[39m     \u001b[38;5;66;03m# GH#38939 de facto copy defaults to False only in non-dict cases\u001b[39;00m\n\u001b[32m--> \u001b[39m\u001b[32m782\u001b[39m     mgr = \u001b[43mdict_to_mgr\u001b[49m\u001b[43m(\u001b[49m\u001b[43mdata\u001b[49m\u001b[43m,\u001b[49m\u001b[43m \u001b[49m\u001b[43mindex\u001b[49m\u001b[43m,\u001b[49m\u001b[43m \u001b[49m\u001b[43mcolumns\u001b[49m\u001b[43m,\u001b[49m\u001b[43m \u001b[49m\u001b[43mdtype\u001b[49m\u001b[43m=\u001b[49m\u001b[43mdtype\u001b[49m\u001b[43m,\u001b[49m\u001b[43m \u001b[49m\u001b[43mcopy\u001b[49m\u001b[43m=\u001b[49m\u001b[43mcopy\u001b[49m\u001b[43m,\u001b[49m\u001b[43m \u001b[49m\u001b[43mtyp\u001b[49m\u001b[43m=\u001b[49m\u001b[43mmanager\u001b[49m\u001b[43m)\u001b[49m\n\u001b[32m    783\u001b[39m \u001b[38;5;28;01melif\u001b[39;00m \u001b[38;5;28misinstance\u001b[39m(data, ma.MaskedArray):\n\u001b[32m    784\u001b[39m     \u001b[38;5;28;01mfrom\u001b[39;00m\u001b[38;5;250m \u001b[39m\u001b[34;01mnumpy\u001b[39;00m\u001b[34;01m.\u001b[39;00m\u001b[34;01mma\u001b[39;00m\u001b[38;5;250m \u001b[39m\u001b[38;5;28;01mimport\u001b[39;00m mrecords\n",
      "\u001b[36mFile \u001b[39m\u001b[32mc:\\Users\\miguel\\AppData\\Local\\Programs\\Python\\Python313\\Lib\\site-packages\\pandas\\core\\internals\\construction.py:503\u001b[39m, in \u001b[36mdict_to_mgr\u001b[39m\u001b[34m(data, index, columns, dtype, typ, copy)\u001b[39m\n\u001b[32m    499\u001b[39m     \u001b[38;5;28;01melse\u001b[39;00m:\n\u001b[32m    500\u001b[39m         \u001b[38;5;66;03m# dtype check to exclude e.g. range objects, scalars\u001b[39;00m\n\u001b[32m    501\u001b[39m         arrays = [x.copy() \u001b[38;5;28;01mif\u001b[39;00m \u001b[38;5;28mhasattr\u001b[39m(x, \u001b[33m\"\u001b[39m\u001b[33mdtype\u001b[39m\u001b[33m\"\u001b[39m) \u001b[38;5;28;01melse\u001b[39;00m x \u001b[38;5;28;01mfor\u001b[39;00m x \u001b[38;5;129;01min\u001b[39;00m arrays]\n\u001b[32m--> \u001b[39m\u001b[32m503\u001b[39m \u001b[38;5;28;01mreturn\u001b[39;00m \u001b[43marrays_to_mgr\u001b[49m\u001b[43m(\u001b[49m\u001b[43marrays\u001b[49m\u001b[43m,\u001b[49m\u001b[43m \u001b[49m\u001b[43mcolumns\u001b[49m\u001b[43m,\u001b[49m\u001b[43m \u001b[49m\u001b[43mindex\u001b[49m\u001b[43m,\u001b[49m\u001b[43m \u001b[49m\u001b[43mdtype\u001b[49m\u001b[43m=\u001b[49m\u001b[43mdtype\u001b[49m\u001b[43m,\u001b[49m\u001b[43m \u001b[49m\u001b[43mtyp\u001b[49m\u001b[43m=\u001b[49m\u001b[43mtyp\u001b[49m\u001b[43m,\u001b[49m\u001b[43m \u001b[49m\u001b[43mconsolidate\u001b[49m\u001b[43m=\u001b[49m\u001b[43mcopy\u001b[49m\u001b[43m)\u001b[49m\n",
      "\u001b[36mFile \u001b[39m\u001b[32mc:\\Users\\miguel\\AppData\\Local\\Programs\\Python\\Python313\\Lib\\site-packages\\pandas\\core\\internals\\construction.py:114\u001b[39m, in \u001b[36marrays_to_mgr\u001b[39m\u001b[34m(arrays, columns, index, dtype, verify_integrity, typ, consolidate)\u001b[39m\n\u001b[32m    111\u001b[39m \u001b[38;5;28;01mif\u001b[39;00m verify_integrity:\n\u001b[32m    112\u001b[39m     \u001b[38;5;66;03m# figure out the index, if necessary\u001b[39;00m\n\u001b[32m    113\u001b[39m     \u001b[38;5;28;01mif\u001b[39;00m index \u001b[38;5;129;01mis\u001b[39;00m \u001b[38;5;28;01mNone\u001b[39;00m:\n\u001b[32m--> \u001b[39m\u001b[32m114\u001b[39m         index = \u001b[43m_extract_index\u001b[49m\u001b[43m(\u001b[49m\u001b[43marrays\u001b[49m\u001b[43m)\u001b[49m\n\u001b[32m    115\u001b[39m     \u001b[38;5;28;01melse\u001b[39;00m:\n\u001b[32m    116\u001b[39m         index = ensure_index(index)\n",
      "\u001b[36mFile \u001b[39m\u001b[32mc:\\Users\\miguel\\AppData\\Local\\Programs\\Python\\Python313\\Lib\\site-packages\\pandas\\core\\internals\\construction.py:680\u001b[39m, in \u001b[36m_extract_index\u001b[39m\u001b[34m(data)\u001b[39m\n\u001b[32m    677\u001b[39m     \u001b[38;5;28;01mraise\u001b[39;00m \u001b[38;5;167;01mValueError\u001b[39;00m(\u001b[33m\"\u001b[39m\u001b[33mAll arrays must be of the same length\u001b[39m\u001b[33m\"\u001b[39m)\n\u001b[32m    679\u001b[39m \u001b[38;5;28;01mif\u001b[39;00m have_dicts:\n\u001b[32m--> \u001b[39m\u001b[32m680\u001b[39m     \u001b[38;5;28;01mraise\u001b[39;00m \u001b[38;5;167;01mValueError\u001b[39;00m(\n\u001b[32m    681\u001b[39m         \u001b[33m\"\u001b[39m\u001b[33mMixing dicts with non-Series may lead to ambiguous ordering.\u001b[39m\u001b[33m\"\u001b[39m\n\u001b[32m    682\u001b[39m     )\n\u001b[32m    684\u001b[39m \u001b[38;5;28;01mif\u001b[39;00m have_series:\n\u001b[32m    685\u001b[39m     \u001b[38;5;28;01mif\u001b[39;00m lengths[\u001b[32m0\u001b[39m] != \u001b[38;5;28mlen\u001b[39m(index):\n",
      "\u001b[31mValueError\u001b[39m: Mixing dicts with non-Series may lead to ambiguous ordering."
     ]
    }
   ],
   "source": [
    "df = pd.DataFrame(datos)\n",
    "df.head()"
   ]
  }
 ],
 "metadata": {
  "kernelspec": {
   "display_name": "Python 3",
   "language": "python",
   "name": "python3"
  },
  "language_info": {
   "codemirror_mode": {
    "name": "ipython",
    "version": 3
   },
   "file_extension": ".py",
   "mimetype": "text/x-python",
   "name": "python",
   "nbconvert_exporter": "python",
   "pygments_lexer": "ipython3",
   "version": "3.13.7"
  }
 },
 "nbformat": 4,
 "nbformat_minor": 5
}
